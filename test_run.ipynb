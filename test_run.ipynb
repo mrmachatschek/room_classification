{
 "cells": [
  {
   "cell_type": "code",
   "execution_count": 2,
   "metadata": {},
   "outputs": [],
   "source": [
    "import os\n",
    "from sklearn.model_selection import train_test_split\n",
    "import pandas as pd\n",
    "import numpy as np\n",
    "\n",
    "def prepare_dataframe(folder_dir):\n",
    "    res = []\n",
    "    for root, dirs, files in os.walk(folder_dir, topdown=True):\n",
    "        if len(files) > 0:\n",
    "            res.extend(list(zip([root]*len(files), files)))\n",
    "\n",
    "    df = pd.DataFrame(res, columns=['Path', 'File_Name'])\n",
    "\n",
    "    df = df[df['File_Name'] != 'Thumbs.db']\n",
    "    df['ClientId'] = df.Path.apply(lambda x: int(x.split(\"\\\\\")[-1]))\n",
    "    df = df[df['ClientId'] < 10000]\n",
    "\n",
    "    df['Full_Path'] = df[\"Path\"] + '\\\\' + df[\"File_Name\"]\n",
    "    df['Cat'] = df.File_Name.apply(lambda x: x.split(\".\")[0].split(\"_\")[-1])\n",
    "\n",
    "    df = df[df['Cat'].map(df['Cat'].value_counts()) > 150]\n",
    "\n",
    "    return df"
   ]
  },
  {
   "cell_type": "code",
   "execution_count": 3,
   "metadata": {},
   "outputs": [
    {
     "output_type": "stream",
     "name": "stderr",
     "text": "Using TensorFlow backend.\n"
    }
   ],
   "source": [
    "from transferlearning import ConvBaseSearch\n",
    "\n",
    "pretrained_models = [\"vgg16\", \"vgg19\"] #Models that should be tested\n",
    "folder_dir = 'C:\\\\Users\\\\Michael\\\\Feels Like Home\\\\Francisco Cruz - Fotos_DL\\\\011_Fotos\\\\'\n",
    "df = prepare_dataframe(folder_dir)\n",
    "target_col = \"Cat\"\n",
    "path_col = \"Full_Path\""
   ]
  },
  {
   "cell_type": "code",
   "execution_count": 4,
   "metadata": {},
   "outputs": [],
   "source": [
    "# Initialize ConvBaseSearch and pass the model names you want to test\n",
    "cbs = ConvBaseSearch(pretrained_models)"
   ]
  },
  {
   "cell_type": "code",
   "execution_count": 5,
   "metadata": {},
   "outputs": [
    {
     "output_type": "stream",
     "name": "stdout",
     "text": "Fitting  vgg16\nFound 111 validated image filenames belonging to 12 classes.\nSuccessfully extraced features from  vgg16\nEpoch 1/1\n88/88 [==============================] - 1s 6ms/step - loss: 2.6612 - accuracy: 0.1705\n23/23 [==============================] - 0s 4ms/step\nScore:  0.30434781312942505\nFitting  vgg19\nFound 111 validated image filenames belonging to 12 classes.\nSuccessfully extraced features from  vgg19\nEpoch 1/1\n88/88 [==============================] - 0s 2ms/step - loss: 2.5719 - accuracy: 0.1477\n23/23 [==============================] - 0s 2ms/step\nScore:  0.1304347813129425\n"
    }
   ],
   "source": [
    "# Fit the data to the pretrained models. Only use sample_size proportion of whole dataset.\n",
    "cbs.fit(df, path_col, target_col, sample_size=0.01, data_augmentation=False)"
   ]
  },
  {
   "cell_type": "code",
   "execution_count": 6,
   "metadata": {},
   "outputs": [
    {
     "output_type": "execute_result",
     "data": {
      "text/plain": "0.30434781312942505"
     },
     "metadata": {},
     "execution_count": 6
    }
   ],
   "source": [
    "# Get the best score \n",
    "cbs.best_score"
   ]
  },
  {
   "cell_type": "code",
   "execution_count": 9,
   "metadata": {},
   "outputs": [
    {
     "output_type": "stream",
     "name": "stdout",
     "text": "Name: vgg16\nKeras model: <keras.engine.training.Model object at 0x000001BF4D976BC8>\n"
    }
   ],
   "source": [
    "# Get the best model\n",
    "best_base = cbs.best_base\n",
    "print(\"Name:\", best_base.name)\n",
    "print(\"Keras model:\", best_base.model)"
   ]
  }
 ],
 "metadata": {
  "language_info": {
   "codemirror_mode": {
    "name": "ipython",
    "version": 3
   },
   "file_extension": ".py",
   "mimetype": "text/x-python",
   "name": "python",
   "nbconvert_exporter": "python",
   "pygments_lexer": "ipython3",
   "version": "3.7.4-final"
  },
  "orig_nbformat": 2,
  "kernelspec": {
   "name": "python37464bitmichaelvirtualenv8c63a04aa4df46b1aed515199121a56c",
   "display_name": "Python 3.7.4 64-bit ('Michael': virtualenv)"
  }
 },
 "nbformat": 4,
 "nbformat_minor": 2
}